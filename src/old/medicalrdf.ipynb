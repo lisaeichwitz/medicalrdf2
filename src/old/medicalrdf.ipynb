{
 "cells": [
  {
   "metadata": {},
   "cell_type": "markdown",
   "source": [
    "# Medical RDF Jupyter Notebook\n",
    "\n",
    "Imports"
   ],
   "id": "6333d97646ca84c3"
  },
  {
   "cell_type": "code",
   "id": "initial_id",
   "metadata": {
    "collapsed": true,
    "ExecuteTime": {
     "end_time": "2024-10-26T16:29:28.856297Z",
     "start_time": "2024-10-26T16:29:28.854081Z"
    }
   },
   "source": [
    "import spacy\n",
    "import srsly\n",
    "import pandas as pd\n",
    "import networkx as nx"
   ],
   "outputs": [],
   "execution_count": 37
  },
  {
   "metadata": {},
   "cell_type": "markdown",
   "source": "Set up NLP Pipeline",
   "id": "4867caf9e745b10d"
  },
  {
   "metadata": {
    "ExecuteTime": {
     "end_time": "2024-10-26T16:29:29.119451Z",
     "start_time": "2024-10-26T16:29:28.859304Z"
    }
   },
   "cell_type": "code",
   "source": [
    "nlp = spacy.load(\"en_core_web_sm\")\n",
    "with open(\"data/panic_attacks.txt\", \"r\") as f:\n",
    "    text = f.read()\n",
    "patterns = srsly.read_jsonl(\"data/patterns.jsonl\")\n",
    "ruler = nlp.add_pipe(\"entity_ruler\")\n",
    "ruler.add_patterns(patterns)\n",
    "doc = nlp(text)\n",
    "\n",
    "for sent in doc.sents:\n",
    "    print(sent)"
   ],
   "id": "faad599558273161",
   "outputs": [
    {
     "name": "stdout",
     "output_type": "stream",
     "text": [
      "\"Panic attacks\" are discrete episodes of intense fear or discomfort, accompanied by physical and cognitive symptoms, as listed in the DSM-5 panic attack checklist (American Psychiatric Association, 2013).\n",
      "Panic attacks are discrete by virtue of their sudden or abrupt onset and brief duration, as opposed to gradually building anxious arousal.\n",
      "Panic attacks in panic disorder often have an unexpected quality, meaning that from the patient's perspective, they appear to happen without an obvious trigger or at unexpected times.\n",
      "Indeed, the diagnosis of panic disorder is defined by recurrent \"unexpected\" panic attacks, followed by at least 1 month of persistent concern about their recurrence and their consequences, or by a significant change in behavior consequent to the attacks (American Psychiatric Association, 2013).\n"
     ]
    }
   ],
   "execution_count": 38
  },
  {
   "metadata": {
    "ExecuteTime": {
     "end_time": "2024-10-26T16:30:14.112125Z",
     "start_time": "2024-10-26T16:30:14.103754Z"
    }
   },
   "cell_type": "code",
   "source": [
    "sent_entity_df = []\n",
    "\n",
    "for sent in doc.sents:\n",
    "    entity_list = [ent.text for ent in sent.ents]\n",
    "    subject = [word.text for word in sent if\n",
    "               word.dep_ == \"csubj\" or word.dep_ == \"subjpass\" or word.dep_ == \"nsubj\" or word.dep_ == \"nsubjpass\"]\n",
    "    predicate = [word.text for word in sent if word.dep_ == \"ROOT\"]\n",
    "    obj = [word.text for word in sent if\n",
    "           word.dep_ == \"dobj\" or word.dep_ == \"iobj\" or word.dep_ == \"obj\" or word.dep_ == \"oa\" or word.dep_ == \"oc\" or word.dep_ == \"og\" or word.dep_ == \"op\" or word.dep_ == \"pobj\"]\n",
    "    sent_entity_df.append(\n",
    "        {\"sentence\": sent, \"entities\": entity_list, \"subject\": subject, \"predicate\": predicate, \"object\": obj})\n",
    "\n",
    "sent_entity_df = pd.DataFrame(sent_entity_df)\n",
    "\n",
    "sent_entity_df"
   ],
   "id": "97fe83a4f533781",
   "outputs": [
    {
     "data": {
      "text/plain": [
       "                                            sentence  \\\n",
       "0  (\", Panic, attacks, \", are, discrete, episodes...   \n",
       "1  (Panic, attacks, are, discrete, by, virtue, of...   \n",
       "2  (Panic, attacks, in, panic, disorder, often, h...   \n",
       "3  (Indeed, ,, the, diagnosis, of, panic, disorde...   \n",
       "\n",
       "                                            entities          subject  \\\n",
       "0  [Panic attacks, DSM-5, American Psychiatric As...        [attacks]   \n",
       "1                                    [Panic attacks]        [attacks]   \n",
       "2                                    [Panic attacks]  [attacks, they]   \n",
       "3  [at least 1 month, American Psychiatric Associ...      [diagnosis]   \n",
       "\n",
       "   predicate                                             object  \n",
       "0      [are]                        [fear, symptoms, checklist]  \n",
       "1      [are]                           [virtue, onset, arousal]  \n",
       "2     [have]   [disorder, quality, perspective, trigger, times]  \n",
       "3  [defined]  [disorder, attacks, month, concern, recurrence...  "
      ],
      "text/html": [
       "<div>\n",
       "<style scoped>\n",
       "    .dataframe tbody tr th:only-of-type {\n",
       "        vertical-align: middle;\n",
       "    }\n",
       "\n",
       "    .dataframe tbody tr th {\n",
       "        vertical-align: top;\n",
       "    }\n",
       "\n",
       "    .dataframe thead th {\n",
       "        text-align: right;\n",
       "    }\n",
       "</style>\n",
       "<table border=\"1\" class=\"dataframe\">\n",
       "  <thead>\n",
       "    <tr style=\"text-align: right;\">\n",
       "      <th></th>\n",
       "      <th>sentence</th>\n",
       "      <th>entities</th>\n",
       "      <th>subject</th>\n",
       "      <th>predicate</th>\n",
       "      <th>object</th>\n",
       "    </tr>\n",
       "  </thead>\n",
       "  <tbody>\n",
       "    <tr>\n",
       "      <th>0</th>\n",
       "      <td>(\", Panic, attacks, \", are, discrete, episodes...</td>\n",
       "      <td>[Panic attacks, DSM-5, American Psychiatric As...</td>\n",
       "      <td>[attacks]</td>\n",
       "      <td>[are]</td>\n",
       "      <td>[fear, symptoms, checklist]</td>\n",
       "    </tr>\n",
       "    <tr>\n",
       "      <th>1</th>\n",
       "      <td>(Panic, attacks, are, discrete, by, virtue, of...</td>\n",
       "      <td>[Panic attacks]</td>\n",
       "      <td>[attacks]</td>\n",
       "      <td>[are]</td>\n",
       "      <td>[virtue, onset, arousal]</td>\n",
       "    </tr>\n",
       "    <tr>\n",
       "      <th>2</th>\n",
       "      <td>(Panic, attacks, in, panic, disorder, often, h...</td>\n",
       "      <td>[Panic attacks]</td>\n",
       "      <td>[attacks, they]</td>\n",
       "      <td>[have]</td>\n",
       "      <td>[disorder, quality, perspective, trigger, times]</td>\n",
       "    </tr>\n",
       "    <tr>\n",
       "      <th>3</th>\n",
       "      <td>(Indeed, ,, the, diagnosis, of, panic, disorde...</td>\n",
       "      <td>[at least 1 month, American Psychiatric Associ...</td>\n",
       "      <td>[diagnosis]</td>\n",
       "      <td>[defined]</td>\n",
       "      <td>[disorder, attacks, month, concern, recurrence...</td>\n",
       "    </tr>\n",
       "  </tbody>\n",
       "</table>\n",
       "</div>"
      ]
     },
     "execution_count": 41,
     "metadata": {},
     "output_type": "execute_result"
    }
   ],
   "execution_count": 41
  },
  {
   "metadata": {
    "ExecuteTime": {
     "end_time": "2024-10-26T16:29:29.227438Z",
     "start_time": "2024-10-26T16:29:29.223879Z"
    }
   },
   "cell_type": "code",
   "source": [
    "for sent in doc.sents:\n",
    "    for token in sent:\n",
    "        print(token.text, token.dep_)"
   ],
   "id": "83e237867c5cf651",
   "outputs": [
    {
     "name": "stdout",
     "output_type": "stream",
     "text": [
      "\" punct\n",
      "Panic compound\n",
      "attacks nsubj\n",
      "\" punct\n",
      "are ROOT\n",
      "discrete amod\n",
      "episodes attr\n",
      "of prep\n",
      "intense amod\n",
      "fear pobj\n",
      "or cc\n",
      "discomfort conj\n",
      ", punct\n",
      "accompanied advcl\n",
      "by agent\n",
      "physical amod\n",
      "and cc\n",
      "cognitive conj\n",
      "symptoms pobj\n",
      ", punct\n",
      "as mark\n",
      "listed advcl\n",
      "in prep\n",
      "the det\n",
      "DSM-5 compound\n",
      "panic compound\n",
      "attack compound\n",
      "checklist pobj\n",
      "( punct\n",
      "American compound\n",
      "Psychiatric compound\n",
      "Association appos\n",
      ", punct\n",
      "2013 npadvmod\n",
      ") punct\n",
      ". punct\n",
      "Panic compound\n",
      "attacks nsubj\n",
      "are ROOT\n",
      "discrete acomp\n",
      "by prep\n",
      "virtue pobj\n",
      "of prep\n",
      "their poss\n",
      "sudden amod\n",
      "or cc\n",
      "abrupt conj\n",
      "onset pobj\n",
      "and cc\n",
      "brief amod\n",
      "duration attr\n",
      ", punct\n",
      "as mark\n",
      "opposed advcl\n",
      "to aux\n",
      "gradually advmod\n",
      "building xcomp\n",
      "anxious amod\n",
      "arousal dobj\n",
      ". punct\n",
      "Panic compound\n",
      "attacks nsubj\n",
      "in prep\n",
      "panic compound\n",
      "disorder pobj\n",
      "often advmod\n",
      "have ROOT\n",
      "an det\n",
      "unexpected amod\n",
      "quality dobj\n",
      ", punct\n",
      "meaning advcl\n",
      "that mark\n",
      "from prep\n",
      "the det\n",
      "patient poss\n",
      "'s case\n",
      "perspective pobj\n",
      ", punct\n",
      "they nsubj\n",
      "appear ccomp\n",
      "to aux\n",
      "happen xcomp\n",
      "without prep\n",
      "an det\n",
      "obvious amod\n",
      "trigger pobj\n",
      "or cc\n",
      "at conj\n",
      "unexpected amod\n",
      "times pobj\n",
      ". punct\n",
      "Indeed advmod\n",
      ", punct\n",
      "the det\n",
      "diagnosis nsubjpass\n",
      "of prep\n",
      "panic compound\n",
      "disorder pobj\n",
      "is auxpass\n",
      "defined ROOT\n",
      "by agent\n",
      "recurrent amod\n",
      "\" punct\n",
      "unexpected amod\n",
      "\" punct\n",
      "panic compound\n",
      "attacks pobj\n",
      ", punct\n",
      "followed acl\n",
      "by agent\n",
      "at advmod\n",
      "least advmod\n",
      "1 nummod\n",
      "month pobj\n",
      "of prep\n",
      "persistent amod\n",
      "concern pobj\n",
      "about prep\n",
      "their poss\n",
      "recurrence pobj\n",
      "and cc\n",
      "their poss\n",
      "consequences conj\n",
      ", punct\n",
      "or cc\n",
      "by conj\n",
      "a det\n",
      "significant amod\n",
      "change pobj\n",
      "in prep\n",
      "behavior pobj\n",
      "consequent amod\n",
      "to prep\n",
      "the det\n",
      "attacks pobj\n",
      "( punct\n",
      "American compound\n",
      "Psychiatric compound\n",
      "Association appos\n",
      ", punct\n",
      "2013 appos\n",
      ") punct\n",
      ". punct\n"
     ]
    }
   ],
   "execution_count": 40
  },
  {
   "metadata": {
    "ExecuteTime": {
     "end_time": "2025-01-26T17:07:39.398773Z",
     "start_time": "2025-01-26T17:07:36.779551Z"
    }
   },
   "cell_type": "code",
   "source": [
    "import spacy\n",
    "import nltk\n",
    "from rdflib import Graph, Literal, RDF, URIRef\n",
    "\n",
    "# Stopwords herunterladen\n",
    "nltk.download('stopwords')\n",
    "from nltk.corpus import stopwords\n",
    "\n",
    "# Laden des NLP-Modells\n",
    "nlp = spacy.load('en_core_web_sm')\n",
    "\n",
    "\n",
    "def preprocess_text(text):\n",
    "    doc = nlp(text.lower())\n",
    "    tokens = [token.lemma_ for token in doc if token.is_alpha and token.text not in stopwords.words('english')]\n",
    "    return tokens\n",
    "\n",
    "\n",
    "def extract_entities(text):\n",
    "    doc = nlp(text)\n",
    "    entities = {ent.text: ent.label_ for ent in doc.ents}\n",
    "    return entities\n",
    "\n",
    "\n",
    "def generate_rdf(entities):\n",
    "    g = Graph()\n",
    "    disorder = URIRef(\"http://example.org/disorder\")\n",
    "    g.add((disorder, RDF.type, URIRef(\"http://example.org/MedicalCondition\")))\n",
    "    for entity, label in entities.items():\n",
    "        g.add((disorder, URIRef(f\"http://example.org/{label}\"), Literal(entity)))\n",
    "    return g.serialize(format='turtle')\n",
    "\n",
    "\n",
    "# Beispieltext\n",
    "text = \"Panic attacks are discrete episodes of intense fear.\"\n",
    "tokens = preprocess_text(text)\n",
    "entities = extract_entities(text)\n",
    "rdf_data = generate_rdf(entities)\n",
    "print(rdf_data)"
   ],
   "id": "2a7a287c65bad9c6",
   "outputs": [
    {
     "name": "stderr",
     "output_type": "stream",
     "text": [
      "[nltk_data] Downloading package stopwords to\n",
      "[nltk_data]     C:\\Users\\janes\\AppData\\Roaming\\nltk_data...\n",
      "[nltk_data]   Unzipping corpora\\stopwords.zip.\n"
     ]
    },
    {
     "name": "stdout",
     "output_type": "stream",
     "text": [
      "\n",
      "<http://example.org/disorder> a <http://example.org/MedicalCondition> .\n",
      "\n",
      "\n"
     ]
    }
   ],
   "execution_count": 2
  }
 ],
 "metadata": {
  "kernelspec": {
   "display_name": "Python 3",
   "language": "python",
   "name": "python3"
  },
  "language_info": {
   "codemirror_mode": {
    "name": "ipython",
    "version": 2
   },
   "file_extension": ".py",
   "mimetype": "text/x-python",
   "name": "python",
   "nbconvert_exporter": "python",
   "pygments_lexer": "ipython2",
   "version": "2.7.6"
  }
 },
 "nbformat": 4,
 "nbformat_minor": 5
}
